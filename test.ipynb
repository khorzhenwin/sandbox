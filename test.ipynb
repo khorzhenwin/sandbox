{
 "cells": [
  {
   "cell_type": "code",
   "execution_count": 48,
   "metadata": {},
   "outputs": [],
   "source": [
    "import re\n",
    "import pandas as pd\n",
    "import numpy as np"
   ]
  },
  {
   "cell_type": "code",
   "execution_count": 78,
   "metadata": {},
   "outputs": [],
   "source": [
    "pd.set_option('display.max_colwidth', None)\n"
   ]
  },
  {
   "cell_type": "code",
   "execution_count": 146,
   "metadata": {},
   "outputs": [],
   "source": [
    "# import data from data.txt and store in data frame\n",
    "df = pd.read_csv('data.txt', sep='\\t', header=None)\n",
    "df2 = pd.read_csv('data.txt', sep='\\t', header=None)"
   ]
  },
  {
   "cell_type": "code",
   "execution_count": 147,
   "metadata": {},
   "outputs": [
    {
     "data": {
      "text/html": [
       "<div>\n",
       "<style scoped>\n",
       "    .dataframe tbody tr th:only-of-type {\n",
       "        vertical-align: middle;\n",
       "    }\n",
       "\n",
       "    .dataframe tbody tr th {\n",
       "        vertical-align: top;\n",
       "    }\n",
       "\n",
       "    .dataframe thead th {\n",
       "        text-align: right;\n",
       "    }\n",
       "</style>\n",
       "<table border=\"1\" class=\"dataframe\">\n",
       "  <thead>\n",
       "    <tr style=\"text-align: right;\">\n",
       "      <th></th>\n",
       "      <th>0</th>\n",
       "    </tr>\n",
       "  </thead>\n",
       "  <tbody>\n",
       "    <tr>\n",
       "      <th>0</th>\n",
       "      <td>| \"ALPHA\"   | \"MYR\" | \"OPY0001427REV \\ OPY0001427REV \" |</td>\n",
       "    </tr>\n",
       "    <tr>\n",
       "      <th>1</th>\n",
       "      <td>| \"BETA\"    | \"MYR\" | \"OPY0001427REV \\ OPY0001427REV \" |</td>\n",
       "    </tr>\n",
       "    <tr>\n",
       "      <th>2</th>\n",
       "      <td>| \"CHARLIE\" | \"MYR\" | \"OPY0001427REV \\ OPY0001427REV \" |</td>\n",
       "    </tr>\n",
       "    <tr>\n",
       "      <th>3</th>\n",
       "      <td>| \"DELTA\"   | \"MYR\" | \"OPY0001427REV \\ OPY0001427REV \" |</td>\n",
       "    </tr>\n",
       "  </tbody>\n",
       "</table>\n",
       "</div>"
      ],
      "text/plain": [
       "                                                          0\n",
       "0  | \"ALPHA\"   | \"MYR\" | \"OPY0001427REV \\ OPY0001427REV \" |\n",
       "1  | \"BETA\"    | \"MYR\" | \"OPY0001427REV \\ OPY0001427REV \" |\n",
       "2  | \"CHARLIE\" | \"MYR\" | \"OPY0001427REV \\ OPY0001427REV \" |\n",
       "3  | \"DELTA\"   | \"MYR\" | \"OPY0001427REV \\ OPY0001427REV \" |"
      ]
     },
     "execution_count": 147,
     "metadata": {},
     "output_type": "execute_result"
    }
   ],
   "source": [
    "df"
   ]
  },
  {
   "cell_type": "code",
   "execution_count": 148,
   "metadata": {},
   "outputs": [
    {
     "data": {
      "text/html": [
       "<div>\n",
       "<style scoped>\n",
       "    .dataframe tbody tr th:only-of-type {\n",
       "        vertical-align: middle;\n",
       "    }\n",
       "\n",
       "    .dataframe tbody tr th {\n",
       "        vertical-align: top;\n",
       "    }\n",
       "\n",
       "    .dataframe thead th {\n",
       "        text-align: right;\n",
       "    }\n",
       "</style>\n",
       "<table border=\"1\" class=\"dataframe\">\n",
       "  <thead>\n",
       "    <tr style=\"text-align: right;\">\n",
       "      <th></th>\n",
       "      <th>0</th>\n",
       "    </tr>\n",
       "  </thead>\n",
       "  <tbody>\n",
       "    <tr>\n",
       "      <th>0</th>\n",
       "      <td>| \\\"ALPHA\\\"   | \\\"MYR\\\" | \\\"OPY0001427REV \\ OPY0001427REV \\\" |</td>\n",
       "    </tr>\n",
       "    <tr>\n",
       "      <th>1</th>\n",
       "      <td>| \\\"BETA\\\"    | \\\"MYR\\\" | \\\"OPY0001427REV \\ OPY0001427REV \\\" |</td>\n",
       "    </tr>\n",
       "    <tr>\n",
       "      <th>2</th>\n",
       "      <td>| \\\"CHARLIE\\\" | \\\"MYR\\\" | \\\"OPY0001427REV \\ OPY0001427REV \\\" |</td>\n",
       "    </tr>\n",
       "    <tr>\n",
       "      <th>3</th>\n",
       "      <td>| \\\"DELTA\\\"   | \\\"MYR\\\" | \\\"OPY0001427REV \\ OPY0001427REV \\\" |</td>\n",
       "    </tr>\n",
       "  </tbody>\n",
       "</table>\n",
       "</div>"
      ],
      "text/plain": [
       "                                                                0\n",
       "0  | \\\"ALPHA\\\"   | \\\"MYR\\\" | \\\"OPY0001427REV \\ OPY0001427REV \\\" |\n",
       "1  | \\\"BETA\\\"    | \\\"MYR\\\" | \\\"OPY0001427REV \\ OPY0001427REV \\\" |\n",
       "2  | \\\"CHARLIE\\\" | \\\"MYR\\\" | \\\"OPY0001427REV \\ OPY0001427REV \\\" |\n",
       "3  | \\\"DELTA\\\"   | \\\"MYR\\\" | \\\"OPY0001427REV \\ OPY0001427REV \\\" |"
      ]
     },
     "execution_count": 148,
     "metadata": {},
     "output_type": "execute_result"
    }
   ],
   "source": [
    "# eugene's regex\n",
    "expression = r'(?<!^)(?<!\\|)(?<!\\\\)\"(?!$|\\|)'\n",
    "expression_sub = \"{}{}\".format('\\\\', \"\\\"\")\n",
    "df2 = df2.applymap(lambda x: re.sub(expression, expression_sub, x))\n",
    "df2"
   ]
  },
  {
   "cell_type": "code",
   "execution_count": 142,
   "metadata": {},
   "outputs": [
    {
     "data": {
      "text/html": [
       "<div>\n",
       "<style scoped>\n",
       "    .dataframe tbody tr th:only-of-type {\n",
       "        vertical-align: middle;\n",
       "    }\n",
       "\n",
       "    .dataframe tbody tr th {\n",
       "        vertical-align: top;\n",
       "    }\n",
       "\n",
       "    .dataframe thead th {\n",
       "        text-align: right;\n",
       "    }\n",
       "</style>\n",
       "<table border=\"1\" class=\"dataframe\">\n",
       "  <thead>\n",
       "    <tr style=\"text-align: right;\">\n",
       "      <th></th>\n",
       "      <th>0</th>\n",
       "    </tr>\n",
       "  </thead>\n",
       "  <tbody>\n",
       "    <tr>\n",
       "      <th>0</th>\n",
       "      <td>\\\"TEST\\\" \\| \\\"MYR\\\" \\| \\\"OPY0001427REV \\ OPY0001427REV \\\"</td>\n",
       "    </tr>\n",
       "    <tr>\n",
       "      <th>1</th>\n",
       "      <td>TEST | \\MYR\\ | \\OPY0001427REV \\ OPY0001427REV \"</td>\n",
       "    </tr>\n",
       "  </tbody>\n",
       "</table>\n",
       "</div>"
      ],
      "text/plain": [
       "                                                           0\n",
       "0  \\\"TEST\\\" \\| \\\"MYR\\\" \\| \\\"OPY0001427REV \\ OPY0001427REV \\\"\n",
       "1            TEST | \\MYR\\ | \\OPY0001427REV \\ OPY0001427REV \""
      ]
     },
     "execution_count": 142,
     "metadata": {},
     "output_type": "execute_result"
    }
   ],
   "source": [
    "df = df.applymap(lambda x: re.sub(expression, r'\\\\', x))\n",
    "df"
   ]
  },
  {
   "cell_type": "code",
   "execution_count": null,
   "metadata": {},
   "outputs": [],
   "source": []
  },
  {
   "cell_type": "code",
   "execution_count": 101,
   "metadata": {},
   "outputs": [],
   "source": [
    "regex_escape_char = \"\\\\\"\n",
    "regex_delimeter = \"|\""
   ]
  },
  {
   "cell_type": "code",
   "execution_count": 121,
   "metadata": {},
   "outputs": [
    {
     "data": {
      "text/plain": [
       "'/^(?=(?!\\\\)|)(?=(?<!\\\\)|)(?=\\\\(?!|))(?=\\\\B\\\\)(?=\\\\\\\\B).*$/'"
      ]
     },
     "execution_count": 121,
     "metadata": {},
     "output_type": "execute_result"
    }
   ],
   "source": [
    "re1 = f\"(?!{regex_escape_char}){regex_delimeter}\"\n",
    "re2 = f\"(?<!{regex_escape_char}){regex_delimeter}\"\n",
    "re3 = f\"{regex_escape_char}(?!{regex_delimeter})\"\n",
    "re4 = f\"\\B{regex_escape_char}\"\n",
    "re5 = f\"{regex_escape_char}\\B\"\n",
    "\n",
    "# to detect if single escape characters exist without being at the front, back, or before a delimiter\n",
    "final_reg = f\"\"\"/^(?={re1}) (?={re2}) (?={re3}) (?={re4}) (?={re5}).*$/\"\"\"\n",
    "final_reg"
   ]
  },
  {
   "cell_type": "code",
   "execution_count": null,
   "metadata": {},
   "outputs": [],
   "source": [
    "# use final_reg to find all instances of single escape characters in df\n",
    "df = df.applymap(lambda x: re.sub(final_reg, '\\\\', x))\n",
    "df"
   ]
  }
 ],
 "metadata": {
  "kernelspec": {
   "display_name": "Python 3.10.5 64-bit",
   "language": "python",
   "name": "python3"
  },
  "language_info": {
   "codemirror_mode": {
    "name": "ipython",
    "version": 3
   },
   "file_extension": ".py",
   "mimetype": "text/x-python",
   "name": "python",
   "nbconvert_exporter": "python",
   "pygments_lexer": "ipython3",
   "version": "3.10.5"
  },
  "orig_nbformat": 4,
  "vscode": {
   "interpreter": {
    "hash": "305709f639fa20a2c50dceffb36d36938c234c9770e761f65813e3fc8fd03532"
   }
  }
 },
 "nbformat": 4,
 "nbformat_minor": 2
}
