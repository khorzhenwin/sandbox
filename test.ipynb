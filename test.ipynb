{
 "cells": [
  {
   "cell_type": "code",
   "execution_count": 1,
   "metadata": {},
   "outputs": [],
   "source": [
    "import re\n",
    "import pandas as pd\n",
    "import numpy as np"
   ]
  },
  {
   "cell_type": "code",
   "execution_count": null,
   "metadata": {},
   "outputs": [],
   "source": [
    "pd.set_option('display.max_colwidth', None)\n",
    "\n",
    "# binary search\n",
    "def binary_search(arr, x):\n",
    "    low = 0\n",
    "    high = len(arr) - 1\n",
    "    mid = 0\n",
    "\n",
    "    while low <= high:\n",
    "        mid = (high + low) // 2\n",
    "\n",
    "        # Check if x is present at mid\n",
    "        if arr[mid] < x:\n",
    "            low = mid + 1\n",
    "\n",
    "        # If x is greater, ignore left half\n",
    "        elif arr[mid] > x:\n",
    "            high = mid - 1\n",
    "\n",
    "        # If x is smaller, ignore right half\n",
    "        else:\n",
    "            return mid\n",
    "\n",
    "    # If we reach here, then the element was not present\n",
    "    return -1"
   ]
  },
  {
   "cell_type": "code",
   "execution_count": null,
   "metadata": {},
   "outputs": [],
   "source": [
    "# import data from data.txt and store in data frame\n",
    "df = pd.read_csv('data.txt', sep='\\t', header=None)\n",
    "df2 = pd.read_csv('data.txt', sep='\\t', header=None)"
   ]
  },
  {
   "cell_type": "code",
   "execution_count": null,
   "metadata": {},
   "outputs": [],
   "source": [
    "df"
   ]
  },
  {
   "cell_type": "code",
   "execution_count": null,
   "metadata": {},
   "outputs": [],
   "source": [
    "# eugene's regex\n",
    "expression = r'(?<!^)(?<!\\|)(?<!\\\\)\"(?!$|\\|)'\n",
    "expression_sub = \"{}{}\".format('\\\\', \"\\\"\")\n",
    "df2 = df2.applymap(lambda x: re.sub(expression, expression_sub, x))\n",
    "df = df.applymap(lambda x: re.sub(expression, expression_sub, x))\n",
    "df2"
   ]
  },
  {
   "cell_type": "code",
   "execution_count": null,
   "metadata": {},
   "outputs": [],
   "source": [
    "# regex to detect a single backslash between whitespace, alphabet, or numeric\n",
    "exp = r'[\\s\\d\\w]\\\\[\\s\\d\\w]'\n",
    "\n",
    "df = df.applymap(lambda x: re.sub(exp, r'\\\\\\\\', x))\n",
    "#df = df.applymap(lambda x: re.sub(expression, expression_sub, x))\n",
    "df"
   ]
  },
  {
   "cell_type": "code",
   "execution_count": null,
   "metadata": {},
   "outputs": [],
   "source": []
  },
  {
   "cell_type": "code",
   "execution_count": null,
   "metadata": {},
   "outputs": [],
   "source": [
    "regex_escape_char = \"\\\\\"\n",
    "regex_delimeter = \"|\""
   ]
  },
  {
   "cell_type": "code",
   "execution_count": null,
   "metadata": {},
   "outputs": [],
   "source": [
    "re1 = f\"(?!{regex_escape_char}){regex_delimeter}\"\n",
    "re2 = f\"(?<!{regex_escape_char}){regex_delimeter}\"\n",
    "re3 = f\"{regex_escape_char}(?!{regex_delimeter})\"\n",
    "re4 = f\"\\B{regex_escape_char}\"\n",
    "re5 = f\"{regex_escape_char}\\B\"\n",
    "\n",
    "# to detect if single escape characters exist without being at the front, back, or before a delimiter\n",
    "final_reg = f\"\"\"/^(?={re1}) (?={re2}) (?={re3}) (?={re4}) (?={re5}).*$/\"\"\"\n",
    "final_reg"
   ]
  },
  {
   "cell_type": "code",
   "execution_count": null,
   "metadata": {},
   "outputs": [],
   "source": [
    "# use final_reg to find all instances of single escape characters in df\n",
    "df = df.applymap(lambda x: re.sub(final_reg, '\\\\\\\\', x))\n",
    "df"
   ]
  },
  {
   "cell_type": "code",
   "execution_count": 1,
   "metadata": {},
   "outputs": [],
   "source": [
    "array_1 = []\n",
    "array_2 = []\n",
    "\n",
    "if len(array_1) > 1:\n",
    "    array = array_1\n",
    "    array.append(\"test\")\n",
    "else:\n",
    "    array = array_2\n",
    "    array.append(\"testing\")"
   ]
  },
  {
   "cell_type": "code",
   "execution_count": 3,
   "metadata": {},
   "outputs": [
    {
     "data": {
      "text/plain": [
       "['testing']"
      ]
     },
     "execution_count": 3,
     "metadata": {},
     "output_type": "execute_result"
    }
   ],
   "source": [
    "array_2"
   ]
  },
  {
   "cell_type": "code",
   "execution_count": null,
   "metadata": {},
   "outputs": [],
   "source": []
  }
 ],
 "metadata": {
  "kernelspec": {
   "display_name": "Python 3.10.5 64-bit",
   "language": "python",
   "name": "python3"
  },
  "language_info": {
   "codemirror_mode": {
    "name": "ipython",
    "version": 3
   },
   "file_extension": ".py",
   "mimetype": "text/x-python",
   "name": "python",
   "nbconvert_exporter": "python",
   "pygments_lexer": "ipython3",
   "version": "3.10.5"
  },
  "orig_nbformat": 4,
  "vscode": {
   "interpreter": {
    "hash": "305709f639fa20a2c50dceffb36d36938c234c9770e761f65813e3fc8fd03532"
   }
  }
 },
 "nbformat": 4,
 "nbformat_minor": 2
}
